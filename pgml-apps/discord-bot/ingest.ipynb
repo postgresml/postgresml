{
 "cells": [
  {
   "cell_type": "code",
   "execution_count": null,
   "metadata": {},
   "outputs": [],
   "source": [
    "# Importing libraries\n",
    "from bot import Bot\n",
    "from dotenv import load_dotenv\n",
    "import os\n",
    "load_dotenv()"
   ]
  },
  {
   "cell_type": "code",
   "execution_count": null,
   "metadata": {},
   "outputs": [],
   "source": [
    "# get environment variables\n",
    "pg_connection_string = os.getenv(\"PGML_CONNECTION_STR\")\n",
    "collection_name = os.getenv(\"COLLECTION_NAME\")\n",
    "markdown_folder_path = os.getenv(\"CONTENT_PATH\")"
   ]
  },
  {
   "cell_type": "code",
   "execution_count": null,
   "metadata": {},
   "outputs": [],
   "source": [
    "\n",
    "## Instantiate bot\n",
    "pgml_bot = Bot(conninfo=pg_connection_string)\n",
    "\n",
    "## Ingest data into vector database\n",
    "pgml_bot.ingest(path=markdown_folder_path, collection_name=collection_name)"
   ]
  }
 ],
 "metadata": {
  "kernelspec": {
   "display_name": ".venv",
   "language": "python",
   "name": "python3"
  },
  "language_info": {
   "codemirror_mode": {
    "name": "ipython",
    "version": 3
   },
   "file_extension": ".py",
   "mimetype": "text/x-python",
   "name": "python",
   "nbconvert_exporter": "python",
   "pygments_lexer": "ipython3",
   "version": "3.9.13"
  },
  "orig_nbformat": 4
 },
 "nbformat": 4,
 "nbformat_minor": 2
}
