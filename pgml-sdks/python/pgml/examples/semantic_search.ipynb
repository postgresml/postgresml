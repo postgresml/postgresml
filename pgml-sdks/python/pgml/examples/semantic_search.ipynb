{
 "cells": [
  {
   "cell_type": "code",
   "execution_count": null,
   "metadata": {},
   "outputs": [],
   "source": [
    "from datasets import load_dataset\n",
    "dataset = load_dataset('quora', split='train')\n",
    "dataset"
   ]
  },
  {
   "cell_type": "code",
   "execution_count": null,
   "metadata": {},
   "outputs": [],
   "source": [
    "questions = []\n",
    "\n",
    "for record in dataset['questions']:\n",
    "    questions.extend(record['text'])\n",
    "  \n",
    "# remove duplicates\n",
    "documents = []\n",
    "for question in list(set(questions)):\n",
    "    if question:\n",
    "        documents.append({\"text\": question})\n",
    "\n",
    "len(documents)"
   ]
  },
  {
   "cell_type": "code",
   "execution_count": 29,
   "metadata": {},
   "outputs": [],
   "source": [
    "from pgml import Database\n",
    "import os\n",
    "from rich import print as rprint"
   ]
  },
  {
   "cell_type": "code",
   "execution_count": null,
   "metadata": {},
   "outputs": [],
   "source": [
    "local_pgml = \"postgres://postgres@127.0.0.1:5433/pgml_development\"\n",
    "\n",
    "conninfo = os.environ.get(\"PGML_CONNECTION\",local_pgml)\n",
    "db = Database(conninfo,min_connections=4)"
   ]
  },
  {
   "cell_type": "code",
   "execution_count": null,
   "metadata": {},
   "outputs": [],
   "source": [
    "collection_name = \"quora_collection\"\n",
    "collection = db.create_or_get_collection(collection_name)"
   ]
  },
  {
   "cell_type": "code",
   "execution_count": 43,
   "metadata": {},
   "outputs": [
    {
     "ename": "KeyboardInterrupt",
     "evalue": "",
     "output_type": "error",
     "traceback": [
      "\u001b[0;31m---------------------------------------------------------------------------\u001b[0m",
      "\u001b[0;31mKeyboardInterrupt\u001b[0m                         Traceback (most recent call last)",
      "Cell \u001b[0;32mIn[43], line 1\u001b[0m\n\u001b[0;32m----> 1\u001b[0m collection\u001b[39m.\u001b[39;49mupsert_documents(documents[:\u001b[39m10000\u001b[39;49m])\n",
      "File \u001b[0;32m~/Hyperparam/postgresml/pgml-sdks/python/pgml/pgml/collection.py:291\u001b[0m, in \u001b[0;36mCollection.upsert_documents\u001b[0;34m(self, documents, text_key, id_key)\u001b[0m\n\u001b[1;32m    265\u001b[0m \u001b[39mdef\u001b[39;00m \u001b[39mupsert_documents\u001b[39m(\n\u001b[1;32m    266\u001b[0m     \u001b[39mself\u001b[39m,\n\u001b[1;32m    267\u001b[0m     documents: List[Dict[\u001b[39mstr\u001b[39m, Any]],\n\u001b[1;32m    268\u001b[0m     text_key: Optional[\u001b[39mstr\u001b[39m] \u001b[39m=\u001b[39m \u001b[39m\"\u001b[39m\u001b[39mtext\u001b[39m\u001b[39m\"\u001b[39m,\n\u001b[1;32m    269\u001b[0m     id_key: Optional[\u001b[39mstr\u001b[39m] \u001b[39m=\u001b[39m \u001b[39m\"\u001b[39m\u001b[39mid\u001b[39m\u001b[39m\"\u001b[39m,\n\u001b[1;32m    270\u001b[0m ) \u001b[39m-\u001b[39m\u001b[39m>\u001b[39m \u001b[39mNone\u001b[39;00m:\n\u001b[1;32m    271\u001b[0m \u001b[39m    \u001b[39m\u001b[39m\"\"\"\u001b[39;00m\n\u001b[1;32m    272\u001b[0m \u001b[39m    The function `upsert_documents` inserts or updates documents in a database table based on their ID,\u001b[39;00m\n\u001b[1;32m    273\u001b[0m \u001b[39m    text, and metadata.\u001b[39;00m\n\u001b[0;32m   (...)\u001b[0m\n\u001b[1;32m    289\u001b[0m \u001b[39m    upsert process. If set to False, only essential information will be printed, defaults to False\u001b[39;00m\n\u001b[1;32m    290\u001b[0m \u001b[39m    \"\"\"\u001b[39;00m\n\u001b[0;32m--> 291\u001b[0m     conn \u001b[39m=\u001b[39m \u001b[39mself\u001b[39;49m\u001b[39m.\u001b[39;49mpool\u001b[39m.\u001b[39;49mgetconn()\n\u001b[1;32m    292\u001b[0m     \u001b[39mfor\u001b[39;00m document \u001b[39min\u001b[39;00m track(documents, description\u001b[39m=\u001b[39m\u001b[39m\"\u001b[39m\u001b[39mUpserting documents\u001b[39m\u001b[39m\"\u001b[39m):\n\u001b[1;32m    293\u001b[0m         \u001b[39mif\u001b[39;00m text_key \u001b[39min\u001b[39;00m \u001b[39mlist\u001b[39m(document\u001b[39m.\u001b[39mkeys()):\n",
      "File \u001b[0;32m~/Library/Caches/pypoetry/virtualenvs/pgml-zoggicR5-py3.11/lib/python3.11/site-packages/psycopg_pool/pool.py:182\u001b[0m, in \u001b[0;36mConnectionPool.getconn\u001b[0;34m(self, timeout)\u001b[0m\n\u001b[1;32m    180\u001b[0m     timeout \u001b[39m=\u001b[39m \u001b[39mself\u001b[39m\u001b[39m.\u001b[39mtimeout\n\u001b[1;32m    181\u001b[0m \u001b[39mtry\u001b[39;00m:\n\u001b[0;32m--> 182\u001b[0m     conn \u001b[39m=\u001b[39m pos\u001b[39m.\u001b[39;49mwait(timeout\u001b[39m=\u001b[39;49mtimeout)\n\u001b[1;32m    183\u001b[0m \u001b[39mexcept\u001b[39;00m \u001b[39mException\u001b[39;00m:\n\u001b[1;32m    184\u001b[0m     \u001b[39mself\u001b[39m\u001b[39m.\u001b[39m_stats[\u001b[39mself\u001b[39m\u001b[39m.\u001b[39m_REQUESTS_ERRORS] \u001b[39m+\u001b[39m\u001b[39m=\u001b[39m \u001b[39m1\u001b[39m\n",
      "File \u001b[0;32m~/Library/Caches/pypoetry/virtualenvs/pgml-zoggicR5-py3.11/lib/python3.11/site-packages/psycopg_pool/pool.py:745\u001b[0m, in \u001b[0;36mWaitingClient.wait\u001b[0;34m(self, timeout)\u001b[0m\n\u001b[1;32m    743\u001b[0m \u001b[39melse\u001b[39;00m:\n\u001b[1;32m    744\u001b[0m     \u001b[39massert\u001b[39;00m \u001b[39mself\u001b[39m\u001b[39m.\u001b[39merror\n\u001b[0;32m--> 745\u001b[0m     \u001b[39mraise\u001b[39;00m \u001b[39mself\u001b[39m\u001b[39m.\u001b[39merror\n",
      "File \u001b[0;32m~/Library/Caches/pypoetry/virtualenvs/pgml-zoggicR5-py3.11/lib/python3.11/site-packages/psycopg_pool/pool.py:734\u001b[0m, in \u001b[0;36mWaitingClient.wait\u001b[0;34m(self, timeout)\u001b[0m\n\u001b[1;32m    732\u001b[0m \u001b[39mif\u001b[39;00m \u001b[39mnot\u001b[39;00m (\u001b[39mself\u001b[39m\u001b[39m.\u001b[39mconn \u001b[39mor\u001b[39;00m \u001b[39mself\u001b[39m\u001b[39m.\u001b[39merror):\n\u001b[1;32m    733\u001b[0m     \u001b[39mtry\u001b[39;00m:\n\u001b[0;32m--> 734\u001b[0m         \u001b[39mif\u001b[39;00m \u001b[39mnot\u001b[39;00m \u001b[39mself\u001b[39;49m\u001b[39m.\u001b[39;49m_cond\u001b[39m.\u001b[39;49mwait(timeout):\n\u001b[1;32m    735\u001b[0m             \u001b[39mself\u001b[39m\u001b[39m.\u001b[39merror \u001b[39m=\u001b[39m PoolTimeout(\n\u001b[1;32m    736\u001b[0m                 \u001b[39mf\u001b[39m\u001b[39m\"\u001b[39m\u001b[39mcouldn\u001b[39m\u001b[39m'\u001b[39m\u001b[39mt get a connection after \u001b[39m\u001b[39m{\u001b[39;00mtimeout\u001b[39m}\u001b[39;00m\u001b[39m sec\u001b[39m\u001b[39m\"\u001b[39m\n\u001b[1;32m    737\u001b[0m             )\n\u001b[1;32m    738\u001b[0m     \u001b[39mexcept\u001b[39;00m \u001b[39mBaseException\u001b[39;00m \u001b[39mas\u001b[39;00m ex:\n",
      "File \u001b[0;32m/opt/homebrew/Cellar/python@3.11/3.11.3/Frameworks/Python.framework/Versions/3.11/lib/python3.11/threading.py:324\u001b[0m, in \u001b[0;36mCondition.wait\u001b[0;34m(self, timeout)\u001b[0m\n\u001b[1;32m    322\u001b[0m \u001b[39melse\u001b[39;00m:\n\u001b[1;32m    323\u001b[0m     \u001b[39mif\u001b[39;00m timeout \u001b[39m>\u001b[39m \u001b[39m0\u001b[39m:\n\u001b[0;32m--> 324\u001b[0m         gotit \u001b[39m=\u001b[39m waiter\u001b[39m.\u001b[39;49macquire(\u001b[39mTrue\u001b[39;49;00m, timeout)\n\u001b[1;32m    325\u001b[0m     \u001b[39melse\u001b[39;00m:\n\u001b[1;32m    326\u001b[0m         gotit \u001b[39m=\u001b[39m waiter\u001b[39m.\u001b[39macquire(\u001b[39mFalse\u001b[39;00m)\n",
      "\u001b[0;31mKeyboardInterrupt\u001b[0m: "
     ]
    }
   ],
   "source": [
    "collection.upsert_documents(documents[:20000])"
   ]
  },
  {
   "cell_type": "code",
   "execution_count": 39,
   "metadata": {},
   "outputs": [
    {
     "name": "stdout",
     "output_type": "stream",
     "text": [
      "\u001b[2KGenerating chunks \u001b[90m━━━━━━━━━━━━━━━━━━━━━━━━━━━━━━━━━━━━━━━━\u001b[0m \u001b[35m100%\u001b[0m \u001b[33m0:01:25\u001b[0m00:01\u001b[0m00:03\u001b[0m\n",
      "\u001b[?25h"
     ]
    }
   ],
   "source": [
    "collection.generate_chunks()"
   ]
  },
  {
   "cell_type": "code",
   "execution_count": 40,
   "metadata": {},
   "outputs": [
    {
     "name": "stdout",
     "output_type": "stream",
     "text": [
      "Generating embeddings using intfloat/e5-small \u001b[33m...\u001b[0m \n"
     ]
    }
   ],
   "source": [
    "collection.generate_embeddings()"
   ]
  },
  {
   "cell_type": "code",
   "execution_count": 42,
   "metadata": {},
   "outputs": [
    {
     "ename": "PoolTimeout",
     "evalue": "couldn't get a connection after 30.0 sec",
     "output_type": "error",
     "traceback": [
      "\u001b[0;31m---------------------------------------------------------------------------\u001b[0m",
      "\u001b[0;31mPoolTimeout\u001b[0m                               Traceback (most recent call last)",
      "Cell \u001b[0;32mIn[42], line 2\u001b[0m\n\u001b[1;32m      1\u001b[0m query \u001b[39m=\u001b[39m \u001b[39m\"\u001b[39m\u001b[39mwhat are haiku poems?\u001b[39m\u001b[39m\"\u001b[39m\n\u001b[0;32m----> 2\u001b[0m result \u001b[39m=\u001b[39m collection\u001b[39m.\u001b[39;49mvector_search(query)\n",
      "File \u001b[0;32m~/Hyperparam/postgresml/pgml-sdks/python/pgml/pgml/collection.py:711\u001b[0m, in \u001b[0;36mCollection.vector_search\u001b[0;34m(self, query, query_parameters, top_k, model_id, splitter_id)\u001b[0m\n\u001b[1;32m    679\u001b[0m \u001b[39mdef\u001b[39;00m \u001b[39mvector_search\u001b[39m(\n\u001b[1;32m    680\u001b[0m     \u001b[39mself\u001b[39m,\n\u001b[1;32m    681\u001b[0m     query: \u001b[39mstr\u001b[39m,\n\u001b[0;32m   (...)\u001b[0m\n\u001b[1;32m    685\u001b[0m     splitter_id: \u001b[39mint\u001b[39m \u001b[39m=\u001b[39m \u001b[39m1\u001b[39m,\n\u001b[1;32m    686\u001b[0m ) \u001b[39m-\u001b[39m\u001b[39m>\u001b[39m List[Dict[\u001b[39mstr\u001b[39m, Any]]:\n\u001b[1;32m    687\u001b[0m \u001b[39m    \u001b[39m\u001b[39m\"\"\"\u001b[39;00m\n\u001b[1;32m    688\u001b[0m \u001b[39m    This function performs a vector search on a database using a query and returns the top matching\u001b[39;00m\n\u001b[1;32m    689\u001b[0m \u001b[39m    results.\u001b[39;00m\n\u001b[0;32m   (...)\u001b[0m\n\u001b[1;32m    709\u001b[0m \u001b[39m    with the search result\u001b[39;00m\n\u001b[1;32m    710\u001b[0m \u001b[39m    \"\"\"\u001b[39;00m\n\u001b[0;32m--> 711\u001b[0m     conn \u001b[39m=\u001b[39m \u001b[39mself\u001b[39;49m\u001b[39m.\u001b[39;49mpool\u001b[39m.\u001b[39;49mgetconn()\n\u001b[1;32m    713\u001b[0m     \u001b[39mif\u001b[39;00m model_id \u001b[39min\u001b[39;00m \u001b[39mself\u001b[39m\u001b[39m.\u001b[39m_cache_model_names\u001b[39m.\u001b[39mkeys():\n\u001b[1;32m    714\u001b[0m         model \u001b[39m=\u001b[39m \u001b[39mself\u001b[39m\u001b[39m.\u001b[39m_cache_model_names[model_id]\n",
      "File \u001b[0;32m~/Library/Caches/pypoetry/virtualenvs/pgml-zoggicR5-py3.11/lib/python3.11/site-packages/psycopg_pool/pool.py:182\u001b[0m, in \u001b[0;36mConnectionPool.getconn\u001b[0;34m(self, timeout)\u001b[0m\n\u001b[1;32m    180\u001b[0m     timeout \u001b[39m=\u001b[39m \u001b[39mself\u001b[39m\u001b[39m.\u001b[39mtimeout\n\u001b[1;32m    181\u001b[0m \u001b[39mtry\u001b[39;00m:\n\u001b[0;32m--> 182\u001b[0m     conn \u001b[39m=\u001b[39m pos\u001b[39m.\u001b[39;49mwait(timeout\u001b[39m=\u001b[39;49mtimeout)\n\u001b[1;32m    183\u001b[0m \u001b[39mexcept\u001b[39;00m \u001b[39mException\u001b[39;00m:\n\u001b[1;32m    184\u001b[0m     \u001b[39mself\u001b[39m\u001b[39m.\u001b[39m_stats[\u001b[39mself\u001b[39m\u001b[39m.\u001b[39m_REQUESTS_ERRORS] \u001b[39m+\u001b[39m\u001b[39m=\u001b[39m \u001b[39m1\u001b[39m\n",
      "File \u001b[0;32m~/Library/Caches/pypoetry/virtualenvs/pgml-zoggicR5-py3.11/lib/python3.11/site-packages/psycopg_pool/pool.py:745\u001b[0m, in \u001b[0;36mWaitingClient.wait\u001b[0;34m(self, timeout)\u001b[0m\n\u001b[1;32m    743\u001b[0m \u001b[39melse\u001b[39;00m:\n\u001b[1;32m    744\u001b[0m     \u001b[39massert\u001b[39;00m \u001b[39mself\u001b[39m\u001b[39m.\u001b[39merror\n\u001b[0;32m--> 745\u001b[0m     \u001b[39mraise\u001b[39;00m \u001b[39mself\u001b[39m\u001b[39m.\u001b[39merror\n",
      "\u001b[0;31mPoolTimeout\u001b[0m: couldn't get a connection after 30.0 sec"
     ]
    }
   ],
   "source": [
    "query = \"which city has the highest population in the world?\"\n",
    "result = collection.vector_search(query)"
   ]
  },
  {
   "cell_type": "code",
   "execution_count": null,
   "metadata": {},
   "outputs": [
    {
     "name": "stdout",
     "output_type": "stream",
     "text": [
      "\u001b[1m[\u001b[0m\n",
      "    \u001b[1m{\u001b[0m\n",
      "        \u001b[32m'score'\u001b[0m: \u001b[1;36m0.9226062759447833\u001b[0m,\n",
      "        \u001b[32m'chunk'\u001b[0m: \u001b[32m'What are some examples of haiku poems about animals?'\u001b[0m,\n",
      "        \u001b[32m'metadata'\u001b[0m: \u001b[1m{\u001b[0m\u001b[1m}\u001b[0m\n",
      "    \u001b[1m}\u001b[0m,\n",
      "    \u001b[1m{\u001b[0m\n",
      "        \u001b[32m'score'\u001b[0m: \u001b[1;36m0.8803199702518053\u001b[0m,\n",
      "        \u001b[32m'chunk'\u001b[0m: \u001b[32m'How do poems have rhythm?'\u001b[0m,\n",
      "        \u001b[32m'metadata'\u001b[0m: \u001b[1m{\u001b[0m\u001b[1m}\u001b[0m\n",
      "    \u001b[1m}\u001b[0m,\n",
      "    \u001b[1m{\u001b[0m\n",
      "        \u001b[32m'score'\u001b[0m: \u001b[1;36m0.8562827400386631\u001b[0m,\n",
      "        \u001b[32m'chunk'\u001b[0m: \u001b[32m'How do you get inspiration to write a poem?'\u001b[0m,\n",
      "        \u001b[32m'metadata'\u001b[0m: \u001b[1m{\u001b[0m\u001b[1m}\u001b[0m\n",
      "    \u001b[1m}\u001b[0m,\n",
      "    \u001b[1m{\u001b[0m\n",
      "        \u001b[32m'score'\u001b[0m: \u001b[1;36m0.8304190744787252\u001b[0m,\n",
      "        \u001b[32m'chunk'\u001b[0m: \u001b[32m'What are some great examples of witty exchanges?'\u001b[0m,\n",
      "        \u001b[32m'metadata'\u001b[0m: \u001b[1m{\u001b[0m\u001b[1m}\u001b[0m\n",
      "    \u001b[1m}\u001b[0m,\n",
      "    \u001b[1m{\u001b[0m\n",
      "        \u001b[32m'score'\u001b[0m: \u001b[1;36m0.8221808330080992\u001b[0m,\n",
      "        \u001b[32m'chunk'\u001b[0m: \u001b[32m'Which are some inspirational books I can read?'\u001b[0m,\n",
      "        \u001b[32m'metadata'\u001b[0m: \u001b[1m{\u001b[0m\u001b[1m}\u001b[0m\n",
      "    \u001b[1m}\u001b[0m\n",
      "\u001b[1m]\u001b[0m\n"
     ]
    }
   ],
   "source": [
    "rprint(result)"
   ]
  },
  {
   "cell_type": "code",
   "execution_count": null,
   "metadata": {},
   "outputs": [],
   "source": []
  }
 ],
 "metadata": {
  "kernelspec": {
   "display_name": "pgml-zoggicR5-py3.11",
   "language": "python",
   "name": "python3"
  },
  "language_info": {
   "codemirror_mode": {
    "name": "ipython",
    "version": 3
   },
   "file_extension": ".py",
   "mimetype": "text/x-python",
   "name": "python",
   "nbconvert_exporter": "python",
   "pygments_lexer": "ipython3",
   "version": "3.11.3"
  },
  "orig_nbformat": 4
 },
 "nbformat": 4,
 "nbformat_minor": 2
}
