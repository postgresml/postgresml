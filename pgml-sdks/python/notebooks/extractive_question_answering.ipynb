{
 "cells": [
  {
   "cell_type": "code",
   "execution_count": 1,
   "metadata": {},
   "outputs": [
    {
     "name": "stderr",
     "output_type": "stream",
     "text": [
      "/home/emmanuel/Documents/Work/Alba/Synced_projects/Alba_Waldo/waldo_postgresml/postgresml_alba/.devenv/state/venv/lib/python3.10/site-packages/tqdm/auto.py:21: TqdmWarning: IProgress not found. Please update jupyter and ipywidgets. See https://ipywidgets.readthedocs.io/en/stable/user_install.html\n",
      "  from .autonotebook import tqdm as notebook_tqdm\n"
     ]
    }
   ],
   "source": [
    "import os\n",
    "import json\n",
    "from datasets import load_dataset\n",
    "from time import time\n",
    "from dotenv import load_dotenv\n",
    "from rich.console import Console\n",
    "from psycopg import sql\n"
   ]
  },
  {
   "cell_type": "code",
   "execution_count": 2,
   "metadata": {},
   "outputs": [],
   "source": [
    "import sys\n",
    "sys.path.append('../pgml/')\n",
    "\n",
    "from pgml import Database\n",
    "from pgml.dbutils import run_select_statement\n"
   ]
  },
  {
   "cell_type": "code",
   "execution_count": 3,
   "metadata": {},
   "outputs": [],
   "source": [
    "load_dotenv()\n",
    "console = Console()\n",
    "\n",
    "local_pgml = \"postgres://postgres@127.0.0.1:5433/pgml\"\n",
    "\n",
    "conninfo = os.environ.get(\"PGML_CONNECTION\", local_pgml)\n",
    "db = Database(conninfo)\n"
   ]
  },
  {
   "cell_type": "code",
   "execution_count": 4,
   "metadata": {},
   "outputs": [],
   "source": [
    "collection_name = \"squad_collection\"\n",
    "collection = db.create_or_get_collection(collection_name)\n"
   ]
  },
  {
   "cell_type": "code",
   "execution_count": 5,
   "metadata": {},
   "outputs": [
    {
     "data": {
      "text/html": [
       "<pre style=\"white-space:pre;overflow-x:auto;line-height:normal;font-family:Menlo,'DejaVu Sans Mono',consolas,'Courier New',monospace\"><span style=\"color: #7fbfbf; text-decoration-color: #7fbfbf\">[16:46:07] </span><span style=\"color: #800000; text-decoration-color: #800000\">WARNING </span> Found cached dataset squad                                                       <a href=\"file:///home/emmanuel/Documents/Work/Alba/Synced_projects/Alba_Waldo/waldo_postgresml/postgresml_alba/.devenv/state/venv/lib/python3.10/site-packages/datasets/builder.py\" target=\"_blank\"><span style=\"color: #7f7f7f; text-decoration-color: #7f7f7f\">builder.py</span></a><span style=\"color: #7f7f7f; text-decoration-color: #7f7f7f\">:</span><a href=\"file:///home/emmanuel/Documents/Work/Alba/Synced_projects/Alba_Waldo/waldo_postgresml/postgresml_alba/.devenv/state/venv/lib/python3.10/site-packages/datasets/builder.py#816\" target=\"_blank\"><span style=\"color: #7f7f7f; text-decoration-color: #7f7f7f\">816</span></a>\n",
       "<span style=\"color: #7fbfbf; text-decoration-color: #7fbfbf\">           </span>         <span style=\"font-weight: bold\">(</span><span style=\"color: #800080; text-decoration-color: #800080\">/home/emmanuel/.cache/huggingface/datasets/squad/plain_text/1.0.0/</span><span style=\"color: #ff00ff; text-decoration-color: #ff00ff\">d6ec3ceb99ca4</span> <span style=\"color: #7f7f7f; text-decoration-color: #7f7f7f\">              </span>\n",
       "<span style=\"color: #7fbfbf; text-decoration-color: #7fbfbf\">           </span>         <span style=\"color: #ff00ff; text-decoration-color: #ff00ff\">80ce37cdd35555d6cb2511d223b9150cce08a837ef62ffea453</span><span style=\"font-weight: bold\">)</span>                             <span style=\"color: #7f7f7f; text-decoration-color: #7f7f7f\">              </span>\n",
       "</pre>\n"
      ],
      "text/plain": [
       "\u001b[2;36m[16:46:07]\u001b[0m\u001b[2;36m \u001b[0m\u001b[31mWARNING \u001b[0m Found cached dataset squad                                                       \u001b]8;id=451819;file:///home/emmanuel/Documents/Work/Alba/Synced_projects/Alba_Waldo/waldo_postgresml/postgresml_alba/.devenv/state/venv/lib/python3.10/site-packages/datasets/builder.py\u001b\\\u001b[2mbuilder.py\u001b[0m\u001b]8;;\u001b\\\u001b[2m:\u001b[0m\u001b]8;id=922399;file:///home/emmanuel/Documents/Work/Alba/Synced_projects/Alba_Waldo/waldo_postgresml/postgresml_alba/.devenv/state/venv/lib/python3.10/site-packages/datasets/builder.py#816\u001b\\\u001b[2m816\u001b[0m\u001b]8;;\u001b\\\n",
       "\u001b[2;36m           \u001b[0m         \u001b[1m(\u001b[0m\u001b[35m/home/emmanuel/.cache/huggingface/datasets/squad/plain_text/1.0.0/\u001b[0m\u001b[95md6ec3ceb99ca4\u001b[0m \u001b[2m              \u001b[0m\n",
       "\u001b[2;36m           \u001b[0m         \u001b[95m80ce37cdd35555d6cb2511d223b9150cce08a837ef62ffea453\u001b[0m\u001b[1m)\u001b[0m                             \u001b[2m              \u001b[0m\n"
      ]
     },
     "metadata": {},
     "output_type": "display_data"
    }
   ],
   "source": [
    "data = load_dataset(\"squad\", split=\"train\")\n",
    "data = data.to_pandas()\n",
    "data = data.drop_duplicates(subset=[\"context\"])\n",
    "\n",
    "documents = [\n",
    "    {\"id\": r[\"id\"], \"text\": r[\"context\"], \"title\": r[\"title\"]}\n",
    "    for r in data.to_dict(orient=\"records\")\n",
    "]\n"
   ]
  },
  {
   "cell_type": "code",
   "execution_count": 6,
   "metadata": {},
   "outputs": [
    {
     "data": {
      "text/html": [
       "<pre style=\"white-space:pre;overflow-x:auto;line-height:normal;font-family:Menlo,'DejaVu Sans Mono',consolas,'Courier New',monospace\">/home/emmanuel/Documents/Work/Alba/Synced_projects/Alba_Waldo/waldo_postgresml/postgresml_alba/.devenv/state/venv/l\n",
       "ib/python3.10/site-packages/rich/live.py:231: UserWarning: install \"ipywidgets\" for Jupyter support\n",
       "  warnings.warn('install \"ipywidgets\" for Jupyter support')\n",
       "</pre>\n"
      ],
      "text/plain": [
       "/home/emmanuel/Documents/Work/Alba/Synced_projects/Alba_Waldo/waldo_postgresml/postgresml_alba/.devenv/state/venv/l\n",
       "ib/python3.10/site-packages/rich/live.py:231: UserWarning: install \"ipywidgets\" for Jupyter support\n",
       "  warnings.warn('install \"ipywidgets\" for Jupyter support')\n"
      ]
     },
     "metadata": {},
     "output_type": "display_data"
    },
    {
     "data": {
      "text/html": [
       "<pre style=\"white-space:pre;overflow-x:auto;line-height:normal;font-family:Menlo,'DejaVu Sans Mono',consolas,'Courier New',monospace\"></pre>\n"
      ],
      "text/plain": []
     },
     "metadata": {},
     "output_type": "display_data"
    },
    {
     "data": {
      "text/html": [
       "<pre style=\"white-space:pre;overflow-x:auto;line-height:normal;font-family:Menlo,'DejaVu Sans Mono',consolas,'Courier New',monospace\">\n",
       "</pre>\n"
      ],
      "text/plain": [
       "\n"
      ]
     },
     "metadata": {},
     "output_type": "display_data"
    },
    {
     "data": {
      "text/html": [
       "<pre style=\"white-space:pre;overflow-x:auto;line-height:normal;font-family:Menlo,'DejaVu Sans Mono',consolas,'Courier New',monospace\"></pre>\n"
      ],
      "text/plain": []
     },
     "metadata": {},
     "output_type": "display_data"
    },
    {
     "data": {
      "text/html": [
       "<pre style=\"white-space:pre;overflow-x:auto;line-height:normal;font-family:Menlo,'DejaVu Sans Mono',consolas,'Courier New',monospace\">\n",
       "</pre>\n"
      ],
      "text/plain": [
       "\n"
      ]
     },
     "metadata": {},
     "output_type": "display_data"
    }
   ],
   "source": [
    "collection.upsert_documents(documents[:200])\n",
    "collection.generate_chunks()\n"
   ]
  },
  {
   "cell_type": "code",
   "execution_count": 7,
   "metadata": {},
   "outputs": [
    {
     "data": {
      "text/html": [
       "<pre style=\"white-space:pre;overflow-x:auto;line-height:normal;font-family:Menlo,'DejaVu Sans Mono',consolas,'Courier New',monospace\">Generating embeddings using intfloat/e5-small <span style=\"color: #808000; text-decoration-color: #808000\">...</span> \n",
       "</pre>\n"
      ],
      "text/plain": [
       "Generating embeddings using intfloat/e5-small \u001b[33m...\u001b[0m \n"
      ]
     },
     "metadata": {},
     "output_type": "display_data"
    }
   ],
   "source": [
    "collection.generate_embeddings()\n"
   ]
  },
  {
   "cell_type": "code",
   "execution_count": 8,
   "metadata": {},
   "outputs": [],
   "source": [
    "start = time()\n",
    "query = \"Who won more than 20 grammy awards?\"\n",
    "results = collection.vector_search(query, top_k=5)\n",
    "_end = time()\n"
   ]
  },
  {
   "cell_type": "code",
   "execution_count": 9,
   "metadata": {},
   "outputs": [
    {
     "data": {
      "text/html": [
       "<pre style=\"white-space:pre;overflow-x:auto;line-height:normal;font-family:Menlo,'DejaVu Sans Mono',consolas,'Courier New',monospace\">\n",
       "<span style=\"font-weight: bold\">Results for </span><span style=\"color: #008000; text-decoration-color: #008000\">'Who won more than 20 grammy awards?'</span>\n",
       "</pre>\n"
      ],
      "text/plain": [
       "\n",
       "\u001b[1mResults for \u001b[0m\u001b[32m'Who won more than 20 grammy awards?'\u001b[0m\n"
      ]
     },
     "metadata": {},
     "output_type": "display_data"
    },
    {
     "data": {
      "text/html": [
       "<pre style=\"white-space:pre;overflow-x:auto;line-height:normal;font-family:Menlo,'DejaVu Sans Mono',consolas,'Courier New',monospace\"><span style=\"font-weight: bold\">[</span>\n",
       "    <span style=\"font-weight: bold\">{</span>\n",
       "        <span style=\"color: #008000; text-decoration-color: #008000\">'score'</span>: <span style=\"color: #008080; text-decoration-color: #008080; font-weight: bold\">0.8538668523932447</span>,\n",
       "        <span style=\"color: #008000; text-decoration-color: #008000\">'chunk'</span>: <span style=\"color: #008000; text-decoration-color: #008000\">'Beyoncé has won 20 Grammy Awards, both as a solo artist and member of Destiny\\'s Child, making </span>\n",
       "<span style=\"color: #008000; text-decoration-color: #008000\">her the second most honored female artist by the Grammys, behind Alison Krauss and the most nominated woman in </span>\n",
       "<span style=\"color: #008000; text-decoration-color: #008000\">Grammy Award history with 52 nominations. \"Single Ladies (Put a Ring on It)\" won Song of the Year in 2010 while </span>\n",
       "<span style=\"color: #008000; text-decoration-color: #008000\">\"Say My Name\" and \"Crazy in Love\" had previously won Best R&amp;B Song. Dangerously in Love, B\\'Day and I Am... Sasha </span>\n",
       "<span style=\"color: #008000; text-decoration-color: #008000\">Fierce have all won Best Contemporary R&amp;B Album. Beyoncé set the record for the most Grammy awards won by a female </span>\n",
       "<span style=\"color: #008000; text-decoration-color: #008000\">artist in one night in 2010 when she won six awards, breaking the tie she previously held with Alicia Keys, Norah </span>\n",
       "<span style=\"color: #008000; text-decoration-color: #008000\">Jones, Alison Krauss, and Amy Winehouse, with Adele equaling this in 2012. Following her role in Dreamgirls she was</span>\n",
       "<span style=\"color: #008000; text-decoration-color: #008000\">nominated for Best Original Song for \"Listen\" and Best Actress at the Golden Globe Awards, and Outstanding Actress </span>\n",
       "<span style=\"color: #008000; text-decoration-color: #008000\">in a Motion Picture at the NAACP Image Awards. Beyoncé won two awards at the Broadcast Film Critics Association </span>\n",
       "<span style=\"color: #008000; text-decoration-color: #008000\">Awards 2006; Best Song for \"Listen\" and Best Original Soundtrack for Dreamgirls: Music from the Motion Picture.'</span>,\n",
       "        <span style=\"color: #008000; text-decoration-color: #008000\">'metadata'</span>: <span style=\"font-weight: bold\">{</span><span style=\"color: #008000; text-decoration-color: #008000\">'id'</span>: <span style=\"color: #008000; text-decoration-color: #008000\">'2d06623c8b0024a03c5928439712844c'</span>, <span style=\"color: #008000; text-decoration-color: #008000\">'title'</span>: <span style=\"color: #008000; text-decoration-color: #008000\">'Beyoncé'</span><span style=\"font-weight: bold\">}</span>\n",
       "    <span style=\"font-weight: bold\">}</span>,\n",
       "    <span style=\"font-weight: bold\">{</span>\n",
       "        <span style=\"color: #008000; text-decoration-color: #008000\">'score'</span>: <span style=\"color: #008080; text-decoration-color: #008080; font-weight: bold\">0.8404338692769873</span>,\n",
       "        <span style=\"color: #008000; text-decoration-color: #008000\">'chunk'</span>: <span style=\"color: #008000; text-decoration-color: #008000\">'A self-described \"modern-day feminist\", Beyoncé creates songs that are often characterized by </span>\n",
       "<span style=\"color: #008000; text-decoration-color: #008000\">themes of love, relationships, and monogamy, as well as female sexuality and empowerment. On stage, her dynamic, </span>\n",
       "<span style=\"color: #008000; text-decoration-color: #008000\">highly choreographed performances have led to critics hailing her as one of the best entertainers in contemporary </span>\n",
       "<span style=\"color: #008000; text-decoration-color: #008000\">popular music. Throughout a career spanning 19 years, she has sold over 118 million records as a solo artist, and a</span>\n",
       "<span style=\"color: #008000; text-decoration-color: #008000\">further 60 million with Destiny\\'s Child, making her one of the best-selling music artists of all time. She has won</span>\n",
       "<span style=\"color: #008000; text-decoration-color: #008000\">20 Grammy Awards and is the most nominated woman in the award\\'s history. The Recording Industry Association of </span>\n",
       "<span style=\"color: #008000; text-decoration-color: #008000\">America recognized her as the Top Certified Artist in America during the 2000s decade. In 2009, Billboard named her</span>\n",
       "<span style=\"color: #008000; text-decoration-color: #008000\">the Top Radio Songs Artist of the Decade, the Top Female Artist of the 2000s and their Artist of the Millennium in </span>\n",
       "<span style=\"color: #008000; text-decoration-color: #008000\">2011. Time listed her among the 100 most influential people in the world in 2013 and 2014. Forbes magazine also </span>\n",
       "<span style=\"color: #008000; text-decoration-color: #008000\">listed her as the most powerful female musician of 2015.'</span>,\n",
       "        <span style=\"color: #008000; text-decoration-color: #008000\">'metadata'</span>: <span style=\"font-weight: bold\">{</span><span style=\"color: #008000; text-decoration-color: #008000\">'id'</span>: <span style=\"color: #008000; text-decoration-color: #008000\">'f935aa1ff2467e9358949b1fb3d8e55c'</span>, <span style=\"color: #008000; text-decoration-color: #008000\">'title'</span>: <span style=\"color: #008000; text-decoration-color: #008000\">'Beyoncé'</span><span style=\"font-weight: bold\">}</span>\n",
       "    <span style=\"font-weight: bold\">}</span>,\n",
       "    <span style=\"font-weight: bold\">{</span>\n",
       "        <span style=\"color: #008000; text-decoration-color: #008000\">'score'</span>: <span style=\"color: #008080; text-decoration-color: #008080; font-weight: bold\">0.8367417191064728</span>,\n",
       "        <span style=\"color: #008000; text-decoration-color: #008000\">'chunk'</span>: <span style=\"color: #008000; text-decoration-color: #008000\">'At the 52nd Annual Grammy Awards, Beyoncé received ten nominations, including Album of the Year </span>\n",
       "<span style=\"color: #008000; text-decoration-color: #008000\">for I Am... Sasha Fierce, Record of the Year for \"Halo\", and Song of the Year for \"Single Ladies (Put a Ring on </span>\n",
       "<span style=\"color: #008000; text-decoration-color: #008000\">It)\", among others. She tied with Lauryn Hill for most Grammy nominations in a single year by a female artist. In </span>\n",
       "<span style=\"color: #008000; text-decoration-color: #008000\">2010, Beyoncé was featured on Lady Gaga\\'s single \"Telephone\" and its music video. The song topped the US Pop Songs</span>\n",
       "<span style=\"color: #008000; text-decoration-color: #008000\">chart, becoming the sixth number-one for both Beyoncé and Gaga, tying them with Mariah Carey for most number-ones </span>\n",
       "<span style=\"color: #008000; text-decoration-color: #008000\">since the Nielsen Top 40 airplay chart launched in 1992. \"Telephone\" received a Grammy Award nomination for Best </span>\n",
       "<span style=\"color: #008000; text-decoration-color: #008000\">Pop Collaboration with Vocals.'</span>,\n",
       "        <span style=\"color: #008000; text-decoration-color: #008000\">'metadata'</span>: <span style=\"font-weight: bold\">{</span><span style=\"color: #008000; text-decoration-color: #008000\">'id'</span>: <span style=\"color: #008000; text-decoration-color: #008000\">'1df324ba685ceb7b1b7ff7e93767a731'</span>, <span style=\"color: #008000; text-decoration-color: #008000\">'title'</span>: <span style=\"color: #008000; text-decoration-color: #008000\">'Beyoncé'</span><span style=\"font-weight: bold\">}</span>\n",
       "    <span style=\"font-weight: bold\">}</span>,\n",
       "    <span style=\"font-weight: bold\">{</span>\n",
       "        <span style=\"color: #008000; text-decoration-color: #008000\">'score'</span>: <span style=\"color: #008080; text-decoration-color: #008080; font-weight: bold\">0.8274824419662897</span>,\n",
       "        <span style=\"color: #008000; text-decoration-color: #008000\">'chunk'</span>: <span style=\"color: #008000; text-decoration-color: #008000\">'Beyoncé has received numerous awards. As a solo artist she has sold over 15 million albums in the</span>\n",
       "<span style=\"color: #008000; text-decoration-color: #008000\">US, and over 118 million records worldwide (a further 60 million additionally with Destiny\\'s Child), making her </span>\n",
       "<span style=\"color: #008000; text-decoration-color: #008000\">one of the best-selling music artists of all time. The Recording Industry Association of America (RIAA) listed </span>\n",
       "<span style=\"color: #008000; text-decoration-color: #008000\">Beyoncé as the top certified artist of the 2000s, with a total of 64 certifications. Her songs \"Crazy in Love\", </span>\n",
       "<span style=\"color: #008000; text-decoration-color: #008000\">\"Single Ladies (Put a Ring on It)\", \"Halo\", and \"Irreplaceable\" are some of the best-selling singles of all time </span>\n",
       "<span style=\"color: #008000; text-decoration-color: #008000\">worldwide. In 2009, The Observer named her the Artist of the Decade and Billboard named her the Top Female Artist </span>\n",
       "<span style=\"color: #008000; text-decoration-color: #008000\">and Top Radio Songs Artist of the Decade. In 2010, Billboard named her in their \"Top 50 R&amp;B/Hip-Hop Artists of the </span>\n",
       "<span style=\"color: #008000; text-decoration-color: #008000\">Past 25 Years\" list at number 15. In 2012 VH1 ranked her third on their list of the \"100 Greatest Women in Music\". </span>\n",
       "<span style=\"color: #008000; text-decoration-color: #008000\">Beyoncé was the first female artist to be honored with the International Artist Award at the American Music Awards.</span>\n",
       "<span style=\"color: #008000; text-decoration-color: #008000\">She has also received the Legend Award at the 2008 World Music Awards and the Billboard Millennium Award at the </span>\n",
       "<span style=\"color: #008000; text-decoration-color: #008000\">2011 Billboard Music Awards.'</span>,\n",
       "        <span style=\"color: #008000; text-decoration-color: #008000\">'metadata'</span>: <span style=\"font-weight: bold\">{</span><span style=\"color: #008000; text-decoration-color: #008000\">'id'</span>: <span style=\"color: #008000; text-decoration-color: #008000\">'4ced822916732434366cb38a436a4ca5'</span>, <span style=\"color: #008000; text-decoration-color: #008000\">'title'</span>: <span style=\"color: #008000; text-decoration-color: #008000\">'Beyoncé'</span><span style=\"font-weight: bold\">}</span>\n",
       "    <span style=\"font-weight: bold\">}</span>,\n",
       "    <span style=\"font-weight: bold\">{</span>\n",
       "        <span style=\"color: #008000; text-decoration-color: #008000\">'score'</span>: <span style=\"color: #008080; text-decoration-color: #008080; font-weight: bold\">0.813134388916657</span>,\n",
       "        <span style=\"color: #008000; text-decoration-color: #008000\">'chunk'</span>: <span style=\"color: #008000; text-decoration-color: #008000\">'In 2001, she became the first African-American woman and second woman songwriter to win the Pop </span>\n",
       "<span style=\"color: #008000; text-decoration-color: #008000\">Songwriter of the Year award at the American Society of Composers, Authors, and Publishers Pop Music Awards. </span>\n",
       "<span style=\"color: #008000; text-decoration-color: #008000\">Beyoncé was the third woman to have writing credits on three number one songs (\"Irreplaceable\", \"Grillz\" and \"Check</span>\n",
       "<span style=\"color: #008000; text-decoration-color: #008000\">on It\") in the same year, after Carole King in 1971 and Mariah Carey in 1991. She is tied with American songwriter </span>\n",
       "<span style=\"color: #008000; text-decoration-color: #008000\">Diane Warren at third with nine songwriting credits on number-one singles. (The latter wrote her 9/11-motivated </span>\n",
       "<span style=\"color: #008000; text-decoration-color: #008000\">song \"I Was Here\" for 4.) In May 2011, Billboard magazine listed Beyoncé at number 17 on their list of the \"Top 20 </span>\n",
       "<span style=\"color: #008000; text-decoration-color: #008000\">Hot 100 Songwriters\", for having co-written eight singles that hit number one on the Billboard Hot 100 chart. She </span>\n",
       "<span style=\"color: #008000; text-decoration-color: #008000\">was one of only three women on that list.'</span>,\n",
       "        <span style=\"color: #008000; text-decoration-color: #008000\">'metadata'</span>: <span style=\"font-weight: bold\">{</span><span style=\"color: #008000; text-decoration-color: #008000\">'id'</span>: <span style=\"color: #008000; text-decoration-color: #008000\">'90232da1b60a6432157165cf844b81c4'</span>, <span style=\"color: #008000; text-decoration-color: #008000\">'title'</span>: <span style=\"color: #008000; text-decoration-color: #008000\">'Beyoncé'</span><span style=\"font-weight: bold\">}</span>\n",
       "    <span style=\"font-weight: bold\">}</span>\n",
       "<span style=\"font-weight: bold\">]</span>\n",
       "</pre>\n"
      ],
      "text/plain": [
       "\u001b[1m[\u001b[0m\n",
       "    \u001b[1m{\u001b[0m\n",
       "        \u001b[32m'score'\u001b[0m: \u001b[1;36m0.8538668523932447\u001b[0m,\n",
       "        \u001b[32m'chunk'\u001b[0m: \u001b[32m'Beyoncé has won 20 Grammy Awards, both as a solo artist and member of Destiny\\'s Child, making \u001b[0m\n",
       "\u001b[32mher the second most honored female artist by the Grammys, behind Alison Krauss and the most nominated woman in \u001b[0m\n",
       "\u001b[32mGrammy Award history with 52 nominations. \"Single Ladies \u001b[0m\u001b[32m(\u001b[0m\u001b[32mPut a Ring on It\u001b[0m\u001b[32m)\u001b[0m\u001b[32m\" won Song of the Year in 2010 while \u001b[0m\n",
       "\u001b[32m\"Say My Name\" and \"Crazy in Love\" had previously won Best R&B Song. Dangerously in Love, B\\'Day and I Am... Sasha \u001b[0m\n",
       "\u001b[32mFierce have all won Best Contemporary R&B Album. Beyoncé set the record for the most Grammy awards won by a female \u001b[0m\n",
       "\u001b[32martist in one night in 2010 when she won six awards, breaking the tie she previously held with Alicia Keys, Norah \u001b[0m\n",
       "\u001b[32mJones, Alison Krauss, and Amy Winehouse, with Adele equaling this in 2012. Following her role in Dreamgirls she was\u001b[0m\n",
       "\u001b[32mnominated for Best Original Song for \"Listen\" and Best Actress at the Golden Globe Awards, and Outstanding Actress \u001b[0m\n",
       "\u001b[32min a Motion Picture at the NAACP Image Awards. Beyoncé won two awards at the Broadcast Film Critics Association \u001b[0m\n",
       "\u001b[32mAwards 2006; Best Song for \"Listen\" and Best Original Soundtrack for Dreamgirls: Music from the Motion Picture.'\u001b[0m,\n",
       "        \u001b[32m'metadata'\u001b[0m: \u001b[1m{\u001b[0m\u001b[32m'id'\u001b[0m: \u001b[32m'2d06623c8b0024a03c5928439712844c'\u001b[0m, \u001b[32m'title'\u001b[0m: \u001b[32m'Beyoncé'\u001b[0m\u001b[1m}\u001b[0m\n",
       "    \u001b[1m}\u001b[0m,\n",
       "    \u001b[1m{\u001b[0m\n",
       "        \u001b[32m'score'\u001b[0m: \u001b[1;36m0.8404338692769873\u001b[0m,\n",
       "        \u001b[32m'chunk'\u001b[0m: \u001b[32m'A self-described \"modern-day feminist\", Beyoncé creates songs that are often characterized by \u001b[0m\n",
       "\u001b[32mthemes of love, relationships, and monogamy, as well as female sexuality and empowerment. On stage, her dynamic, \u001b[0m\n",
       "\u001b[32mhighly choreographed performances have led to critics hailing her as one of the best entertainers in contemporary \u001b[0m\n",
       "\u001b[32mpopular music. Throughout a career spanning 19 years, she has sold over 118 million records as a solo artist, and a\u001b[0m\n",
       "\u001b[32mfurther 60 million with Destiny\\'s Child, making her one of the best-selling music artists of all time. She has won\u001b[0m\n",
       "\u001b[32m20 Grammy Awards and is the most nominated woman in the award\\'s history. The Recording Industry Association of \u001b[0m\n",
       "\u001b[32mAmerica recognized her as the Top Certified Artist in America during the 2000s decade. In 2009, Billboard named her\u001b[0m\n",
       "\u001b[32mthe Top Radio Songs Artist of the Decade, the Top Female Artist of the 2000s and their Artist of the Millennium in \u001b[0m\n",
       "\u001b[32m2011. Time listed her among the 100 most influential people in the world in 2013 and 2014. Forbes magazine also \u001b[0m\n",
       "\u001b[32mlisted her as the most powerful female musician of 2015.'\u001b[0m,\n",
       "        \u001b[32m'metadata'\u001b[0m: \u001b[1m{\u001b[0m\u001b[32m'id'\u001b[0m: \u001b[32m'f935aa1ff2467e9358949b1fb3d8e55c'\u001b[0m, \u001b[32m'title'\u001b[0m: \u001b[32m'Beyoncé'\u001b[0m\u001b[1m}\u001b[0m\n",
       "    \u001b[1m}\u001b[0m,\n",
       "    \u001b[1m{\u001b[0m\n",
       "        \u001b[32m'score'\u001b[0m: \u001b[1;36m0.8367417191064728\u001b[0m,\n",
       "        \u001b[32m'chunk'\u001b[0m: \u001b[32m'At the 52nd Annual Grammy Awards, Beyoncé received ten nominations, including Album of the Year \u001b[0m\n",
       "\u001b[32mfor I Am... Sasha Fierce, Record of the Year for \"Halo\", and Song of the Year for \"Single Ladies \u001b[0m\u001b[32m(\u001b[0m\u001b[32mPut a Ring on \u001b[0m\n",
       "\u001b[32mIt\u001b[0m\u001b[32m)\u001b[0m\u001b[32m\", among others. She tied with Lauryn Hill for most Grammy nominations in a single year by a female artist. In \u001b[0m\n",
       "\u001b[32m2010, Beyoncé was featured on Lady Gaga\\'s single \"Telephone\" and its music video. The song topped the US Pop Songs\u001b[0m\n",
       "\u001b[32mchart, becoming the sixth number-one for both Beyoncé and Gaga, tying them with Mariah Carey for most number-ones \u001b[0m\n",
       "\u001b[32msince the Nielsen Top 40 airplay chart launched in 1992. \"Telephone\" received a Grammy Award nomination for Best \u001b[0m\n",
       "\u001b[32mPop Collaboration with Vocals.'\u001b[0m,\n",
       "        \u001b[32m'metadata'\u001b[0m: \u001b[1m{\u001b[0m\u001b[32m'id'\u001b[0m: \u001b[32m'1df324ba685ceb7b1b7ff7e93767a731'\u001b[0m, \u001b[32m'title'\u001b[0m: \u001b[32m'Beyoncé'\u001b[0m\u001b[1m}\u001b[0m\n",
       "    \u001b[1m}\u001b[0m,\n",
       "    \u001b[1m{\u001b[0m\n",
       "        \u001b[32m'score'\u001b[0m: \u001b[1;36m0.8274824419662897\u001b[0m,\n",
       "        \u001b[32m'chunk'\u001b[0m: \u001b[32m'Beyoncé has received numerous awards. As a solo artist she has sold over 15 million albums in the\u001b[0m\n",
       "\u001b[32mUS, and over 118 million records worldwide \u001b[0m\u001b[32m(\u001b[0m\u001b[32ma further 60 million additionally with Destiny\\'s Child\u001b[0m\u001b[32m)\u001b[0m\u001b[32m, making her \u001b[0m\n",
       "\u001b[32mone of the best-selling music artists of all time. The Recording Industry Association of America \u001b[0m\u001b[32m(\u001b[0m\u001b[32mRIAA\u001b[0m\u001b[32m)\u001b[0m\u001b[32m listed \u001b[0m\n",
       "\u001b[32mBeyoncé as the top certified artist of the 2000s, with a total of 64 certifications. Her songs \"Crazy in Love\", \u001b[0m\n",
       "\u001b[32m\"Single Ladies \u001b[0m\u001b[32m(\u001b[0m\u001b[32mPut a Ring on It\u001b[0m\u001b[32m)\u001b[0m\u001b[32m\", \"Halo\", and \"Irreplaceable\" are some of the best-selling singles of all time \u001b[0m\n",
       "\u001b[32mworldwide. In 2009, The Observer named her the Artist of the Decade and Billboard named her the Top Female Artist \u001b[0m\n",
       "\u001b[32mand Top Radio Songs Artist of the Decade. In 2010, Billboard named her in their \"Top 50 R&B/Hip-Hop Artists of the \u001b[0m\n",
       "\u001b[32mPast 25 Years\" list at number 15. In 2012 VH1 ranked her third on their list of the \"100 Greatest Women in Music\". \u001b[0m\n",
       "\u001b[32mBeyoncé was the first female artist to be honored with the International Artist Award at the American Music Awards.\u001b[0m\n",
       "\u001b[32mShe has also received the Legend Award at the 2008 World Music Awards and the Billboard Millennium Award at the \u001b[0m\n",
       "\u001b[32m2011 Billboard Music Awards.'\u001b[0m,\n",
       "        \u001b[32m'metadata'\u001b[0m: \u001b[1m{\u001b[0m\u001b[32m'id'\u001b[0m: \u001b[32m'4ced822916732434366cb38a436a4ca5'\u001b[0m, \u001b[32m'title'\u001b[0m: \u001b[32m'Beyoncé'\u001b[0m\u001b[1m}\u001b[0m\n",
       "    \u001b[1m}\u001b[0m,\n",
       "    \u001b[1m{\u001b[0m\n",
       "        \u001b[32m'score'\u001b[0m: \u001b[1;36m0.813134388916657\u001b[0m,\n",
       "        \u001b[32m'chunk'\u001b[0m: \u001b[32m'In 2001, she became the first African-American woman and second woman songwriter to win the Pop \u001b[0m\n",
       "\u001b[32mSongwriter of the Year award at the American Society of Composers, Authors, and Publishers Pop Music Awards. \u001b[0m\n",
       "\u001b[32mBeyoncé was the third woman to have writing credits on three number one songs \u001b[0m\u001b[32m(\u001b[0m\u001b[32m\"Irreplaceable\", \"Grillz\" and \"Check\u001b[0m\n",
       "\u001b[32mon It\"\u001b[0m\u001b[32m)\u001b[0m\u001b[32m in the same year, after Carole King in 1971 and Mariah Carey in 1991. She is tied with American songwriter \u001b[0m\n",
       "\u001b[32mDiane Warren at third with nine songwriting credits on number-one singles. \u001b[0m\u001b[32m(\u001b[0m\u001b[32mThe latter wrote her 9/11-motivated \u001b[0m\n",
       "\u001b[32msong \"I Was Here\" for 4.\u001b[0m\u001b[32m)\u001b[0m\u001b[32m In May 2011, Billboard magazine listed Beyoncé at number 17 on their list of the \"Top 20 \u001b[0m\n",
       "\u001b[32mHot 100 Songwriters\", for having co-written eight singles that hit number one on the Billboard Hot 100 chart. She \u001b[0m\n",
       "\u001b[32mwas one of only three women on that list.'\u001b[0m,\n",
       "        \u001b[32m'metadata'\u001b[0m: \u001b[1m{\u001b[0m\u001b[32m'id'\u001b[0m: \u001b[32m'90232da1b60a6432157165cf844b81c4'\u001b[0m, \u001b[32m'title'\u001b[0m: \u001b[32m'Beyoncé'\u001b[0m\u001b[1m}\u001b[0m\n",
       "    \u001b[1m}\u001b[0m\n",
       "\u001b[1m]\u001b[0m\n"
      ]
     },
     "metadata": {},
     "output_type": "display_data"
    },
    {
     "data": {
      "text/html": [
       "<pre style=\"white-space:pre;overflow-x:auto;line-height:normal;font-family:Menlo,'DejaVu Sans Mono',consolas,'Courier New',monospace\">Query time = <span style=\"color: #008080; text-decoration-color: #008080; font-weight: bold\">45.297</span>\n",
       "</pre>\n"
      ],
      "text/plain": [
       "Query time = \u001b[1;36m45.297\u001b[0m\n"
      ]
     },
     "metadata": {},
     "output_type": "display_data"
    }
   ],
   "source": [
    "console.print(\"\\nResults for '%s'\" % (query), style=\"bold\")\n",
    "console.print(results)\n",
    "console.print(\"Query time = %0.3f\" % (_end - start))\n"
   ]
  },
  {
   "cell_type": "code",
   "execution_count": 10,
   "metadata": {},
   "outputs": [],
   "source": [
    "# Get the context passage and use pgml.transform to get short answer to the question\n",
    "conn = db.pool.getconn()\n",
    "context = \" \".join(results[0][\"chunk\"].strip().split())\n",
    "context = context.replace('\"', '\\\\\"').replace(\"'\", \"''\")\n"
   ]
  },
  {
   "cell_type": "code",
   "execution_count": 11,
   "metadata": {},
   "outputs": [],
   "source": [
    "select_statement = \"\"\"SELECT pgml.transform(\n",
    "    'question-answering',\n",
    "    inputs => ARRAY[\n",
    "        '{\n",
    "            \\\"question\\\": \\\"%s\\\",\n",
    "            \\\"context\\\": \\\"%s\\\"\n",
    "        }'\n",
    "    ]\n",
    ") AS answer;\"\"\" % (\n",
    "    query,\n",
    "    context,\n",
    ")\n"
   ]
  },
  {
   "cell_type": "code",
   "execution_count": 12,
   "metadata": {},
   "outputs": [],
   "source": [
    "results = run_select_statement(conn, select_statement)\n",
    "db.pool.putconn(conn)\n"
   ]
  },
  {
   "cell_type": "code",
   "execution_count": 13,
   "metadata": {},
   "outputs": [
    {
     "data": {
      "text/html": [
       "<pre style=\"white-space:pre;overflow-x:auto;line-height:normal;font-family:Menlo,'DejaVu Sans Mono',consolas,'Courier New',monospace\">\n",
       "Results for query <span style=\"color: #008000; text-decoration-color: #008000\">'Who won more than 20 grammy awards?'</span>\n",
       "</pre>\n"
      ],
      "text/plain": [
       "\n",
       "Results for query \u001b[32m'Who won more than 20 grammy awards?'\u001b[0m\n"
      ]
     },
     "metadata": {},
     "output_type": "display_data"
    },
    {
     "data": {
      "text/html": [
       "<pre style=\"white-space:pre;overflow-x:auto;line-height:normal;font-family:Menlo,'DejaVu Sans Mono',consolas,'Courier New',monospace\"><span style=\"font-weight: bold\">[{</span><span style=\"color: #008000; text-decoration-color: #008000\">'answer'</span>: <span style=\"font-weight: bold\">{</span><span style=\"color: #008000; text-decoration-color: #008000\">'end'</span>: <span style=\"color: #008080; text-decoration-color: #008080; font-weight: bold\">172</span>, <span style=\"color: #008000; text-decoration-color: #008000\">'score'</span>: <span style=\"color: #008080; text-decoration-color: #008080; font-weight: bold\">0.4324144721031189</span>, <span style=\"color: #008000; text-decoration-color: #008000\">'start'</span>: <span style=\"color: #008080; text-decoration-color: #008080; font-weight: bold\">159</span>, <span style=\"color: #008000; text-decoration-color: #008000\">'answer'</span>: <span style=\"color: #008000; text-decoration-color: #008000\">'Alison Krauss'</span><span style=\"font-weight: bold\">}}]</span>\n",
       "</pre>\n"
      ],
      "text/plain": [
       "\u001b[1m[\u001b[0m\u001b[1m{\u001b[0m\u001b[32m'answer'\u001b[0m: \u001b[1m{\u001b[0m\u001b[32m'end'\u001b[0m: \u001b[1;36m172\u001b[0m, \u001b[32m'score'\u001b[0m: \u001b[1;36m0.4324144721031189\u001b[0m, \u001b[32m'start'\u001b[0m: \u001b[1;36m159\u001b[0m, \u001b[32m'answer'\u001b[0m: \u001b[32m'Alison Krauss'\u001b[0m\u001b[1m}\u001b[0m\u001b[1m}\u001b[0m\u001b[1m]\u001b[0m\n"
      ]
     },
     "metadata": {},
     "output_type": "display_data"
    }
   ],
   "source": [
    "console.print(\"\\nResults for query '%s'\" % query)\n",
    "console.print(results)\n"
   ]
  },
  {
   "cell_type": "code",
   "execution_count": null,
   "metadata": {},
   "outputs": [],
   "source": [
    "db.archive_collection(collection_name)\n"
   ]
  }
 ],
 "metadata": {
  "kernelspec": {
   "display_name": "Python 3",
   "language": "python",
   "name": "python3"
  },
  "language_info": {
   "codemirror_mode": {
    "name": "ipython",
    "version": 3
   },
   "file_extension": ".py",
   "mimetype": "text/x-python",
   "name": "python",
   "nbconvert_exporter": "python",
   "pygments_lexer": "ipython3",
   "version": "3.10.12"
  },
  "orig_nbformat": 4
 },
 "nbformat": 4,
 "nbformat_minor": 2
}
